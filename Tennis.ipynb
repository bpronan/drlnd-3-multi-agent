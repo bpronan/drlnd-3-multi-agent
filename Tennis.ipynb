{
 "cells": [
  {
   "cell_type": "markdown",
   "metadata": {},
   "source": [
    "# Collaboration and Competition\n",
    "\n",
    "---\n",
    "\n",
    "Solution for project 3 of the [Deep Reinforcement Learning Nanodegree](https://www.udacity.com/course/deep-reinforcement-learning-nanodegree--nd893) program.\n",
    "\n",
    "### Packages\n",
    "\n",
    "Import the necessary packages.  If the code cell below returns an error, please revisit the project instructions to double-check that you have installed [Unity ML-Agents](https://github.com/Unity-Technologies/ml-agents/blob/master/docs/Installation.md) and [NumPy](http://www.numpy.org/)."
   ]
  },
  {
   "cell_type": "code",
   "execution_count": 1,
   "metadata": {},
   "outputs": [],
   "source": [
    "from unityagents import UnityEnvironment\n",
    "import numpy as np\n",
    "import torch\n",
    "\n",
    "import time\n",
    "from collections import deque\n",
    "\n",
    "from IPython.display import clear_output\n",
    "import matplotlib.pyplot as plt\n",
    "%matplotlib inline\n",
    "\n",
    "%load_ext autoreload\n",
    "%autoreload 2"
   ]
  },
  {
   "cell_type": "code",
   "execution_count": 2,
   "metadata": {},
   "outputs": [],
   "source": [
    "from agent.maddpg import MADDPG, MultiAgentConfig"
   ]
  },
  {
   "cell_type": "markdown",
   "metadata": {},
   "source": [
    "### Unity Environment\n",
    "\n",
    "A wrapper for the unity environment making it resemble an [OpenAI Gym Environment](https://gym.openai.com/)."
   ]
  },
  {
   "cell_type": "code",
   "execution_count": 3,
   "metadata": {},
   "outputs": [],
   "source": [
    "class EnvironmentWrapper(object):    \n",
    "    \"\"\"Wrapper to make the unity enviroment more like OpenAI Gym.\"\"\"\n",
    "    \n",
    "    def __init__(self, env):\n",
    "        \"\"\"Initialize.\n",
    "        \n",
    "        Params\n",
    "        ======\n",
    "            env: The unity environment to wrap.\n",
    "        \"\"\"\n",
    "        self.env = env\n",
    "        self.brain_name = self.env.brain_names[0]\n",
    "\n",
    "        self.env_info = self.env.reset(train_mode=True)[self.brain_name]\n",
    "        self.num_agents = len(self.env_info.agents)\n",
    "        \n",
    "        self.action_size = self.env.brains[self.brain_name].vector_action_space_size\n",
    "        self.state_size = len(self.env_info.vector_observations[0])\n",
    "        \n",
    "        self.actions = np.zeros((self.num_agents, self.action_size))\n",
    "        \n",
    "    def reset(self, train_mode=True):\n",
    "        env_info = self.env.reset(train_mode=train_mode)[self.brain_name]\n",
    "        return env_info.vector_observations\n",
    "    \n",
    "    def step_single(self, action, agent):\n",
    "        self.actions[agent] = action\n",
    "\n",
    "        env_info = self.env.step(self.actions)[self.brain_name] \n",
    "        reward = env_info.rewards[agent]\n",
    "        next_state = env_info.vector_observations[agent]\n",
    "        done = env_info.local_done[agent]\n",
    "        \n",
    "        return next_state, reward, done, env_info\n",
    "    \n",
    "    \n",
    "    def step(self, action):\n",
    "        env_info = self.env.step(action)[self.brain_name] \n",
    "        reward = env_info.rewards\n",
    "        next_state = env_info.vector_observations\n",
    "        done = env_info.local_done\n",
    "        \n",
    "        return next_state, reward, done, env_info"
   ]
  },
  {
   "cell_type": "markdown",
   "metadata": {},
   "source": [
    "Start the environment!  **_Before running the code cell below_**, change the `file_name` parameter to match the location of the Unity environment that you downloaded.\n",
    "\n",
    "- **Mac**: `\"path/to/Tennis.app\"`\n",
    "- **Windows** (x86): `\"path/to/Tennis_Windows_x86/Tennis.exe\"`\n",
    "- **Windows** (x86_64): `\"path/to/Tennis_Windows_x86_64/Tennis.exe\"`\n",
    "- **Linux** (x86): `\"path/to/Tennis_Linux/Tennis.x86\"`\n",
    "- **Linux** (x86_64): `\"path/to/Tennis_Linux/Tennis.x86_64\"`\n",
    "- **Linux** (x86, headless): `\"path/to/Tennis_Linux_NoVis/Tennis.x86\"`\n",
    "- **Linux** (x86_64, headless): `\"path/to/Tennis_Linux_NoVis/Tennis.x86_64\"`\n",
    "\n",
    "For instance, if you are using a Mac, then you downloaded `Tennis.app`.  If this file is in the same folder as the notebook, then the line below should appear as follows:\n",
    "```\n",
    "env = UnityEnvironment(file_name=\"Tennis.app\")\n",
    "```"
   ]
  },
  {
   "cell_type": "code",
   "execution_count": 4,
   "metadata": {},
   "outputs": [
    {
     "name": "stderr",
     "output_type": "stream",
     "text": [
      "INFO:unityagents:\n",
      "'Academy' started successfully!\n",
      "Unity Academy name: Academy\n",
      "        Number of Brains: 1\n",
      "        Number of External Brains : 1\n",
      "        Lesson number : 0\n",
      "        Reset Parameters :\n",
      "\t\t\n",
      "Unity brain name: TennisBrain\n",
      "        Number of Visual Observations (per agent): 0\n",
      "        Vector Observation space type: continuous\n",
      "        Vector Observation space size (per agent): 8\n",
      "        Number of stacked Vector Observation: 3\n",
      "        Vector Action space type: continuous\n",
      "        Vector Action space size (per agent): 2\n",
      "        Vector Action descriptions: , \n"
     ]
    }
   ],
   "source": [
    "env = UnityEnvironment(file_name=\"./environments/Tennis_Windows_x86_64/Tennis.exe\")"
   ]
  },
  {
   "cell_type": "markdown",
   "metadata": {},
   "source": [
    "Wrap up the tennis environment in a gym-like container."
   ]
  },
  {
   "cell_type": "code",
   "execution_count": 5,
   "metadata": {},
   "outputs": [],
   "source": [
    "tennis_env = EnvironmentWrapper(env)"
   ]
  },
  {
   "cell_type": "markdown",
   "metadata": {},
   "source": [
    "### MADDPG Agent Training\n",
    "\n",
    "The training harness for the agent using [Multi-Agent Deep Deterministic Policy Gradients](https://arxiv.org/pdf/1706.02275.pdf)."
   ]
  },
  {
   "cell_type": "code",
   "execution_count": 6,
   "metadata": {},
   "outputs": [],
   "source": [
    "def maddpg(maddpg_agent, n_episodes=500, max_t=1000, print_every=100):\n",
    "    \n",
    "    scores = []\n",
    "    scores_window = deque(maxlen=100)\n",
    "    frame_num = 0\n",
    "    current_max = 1.0\n",
    "        \n",
    "    for i_ep in range(1, n_episodes + 1):\n",
    "        state = tennis_env.reset(True)\n",
    "        maddpg_agent.reset()\n",
    "        \n",
    "        agent_scores = np.zeros(tennis_env.num_agents)\n",
    "        \n",
    "        for t in range(max_t):\n",
    "            action = maddpg_agent.act(state, 1.0)\n",
    "                        \n",
    "            next_state, reward, done, _ = tennis_env.step(action)\n",
    "            \n",
    "            maddpg_agent.step(state, action, reward, next_state, done)\n",
    "            \n",
    "            state = next_state\n",
    "            agent_scores += reward\n",
    "\n",
    "            frame_num += 1\n",
    "            \n",
    "            if np.any(done):\n",
    "                break\n",
    "        \n",
    "        max_score = np.max(agent_scores)\n",
    "        scores_window.append(max_score)\n",
    "        scores.append(max_score)\n",
    "        \n",
    "        print('\\rEpisode {}\\tAverage Score: {:.2f}'.format(i_ep, np.mean(scores_window)), end=\"\")\n",
    "        \n",
    "        if i_ep % print_every == 0:\n",
    "            print('\\rEpisode {}\\tAverage Score: {:.2f}'.format(i_ep, np.mean(scores_window)))\n",
    "\n",
    "        if max_score > current_max:\n",
    "            ddpg_agent.save_checkpoints('checkpoints/checkpoint_max_')\n",
    "            current_max = max_score\n",
    "            \n",
    "        if np.mean(scores_window) >= 0.5:\n",
    "            print('\\nEnvironment solved in {:d} episodes!\\tAverage Score: {:.2f}'.format(i_ep, np.mean(scores_window)))\n",
    "            break\n",
    "            \n",
    "            \n",
    "    return scores"
   ]
  },
  {
   "cell_type": "markdown",
   "metadata": {},
   "source": [
    "Utility to plot the scores."
   ]
  },
  {
   "cell_type": "code",
   "execution_count": 7,
   "metadata": {},
   "outputs": [],
   "source": [
    "def plot_scores(scores, title=\"\"):\n",
    "    fig = plt.figure()\n",
    "    ax = fig.add_subplot(111)\n",
    "    plt.title(title)\n",
    "    plt.plot(np.arange(len(scores)), scores)\n",
    "    plt.ylabel('Score')\n",
    "    plt.xlabel('Episode #')\n",
    "    plt.show()"
   ]
  },
  {
   "cell_type": "markdown",
   "metadata": {},
   "source": [
    "### Random Replay"
   ]
  },
  {
   "cell_type": "markdown",
   "metadata": {},
   "source": [
    "Training the agent with optimized hand-tuned hyperparameters. This agent uses a random access experience replay buffer."
   ]
  },
  {
   "cell_type": "code",
   "execution_count": 10,
   "metadata": {},
   "outputs": [
    {
     "name": "stdout",
     "output_type": "stream",
     "text": [
      "Randomized Replay Buffer\n",
      "Agent Config:\n",
      "\tbuffer size: 100000\tbatch size: 512\n",
      "\tgamma: 0.99\ttau: 0.2\n",
      "\tactor lr: 0.0001\tcritic lr: 0.0003\n",
      "\tmu: 0.0\ttheta: 0.15\tsigma: 0.2\n",
      "Episode 100\tAverage Score: 0.00\n",
      "Episode 200\tAverage Score: 0.00\n",
      "Episode 300\tAverage Score: 0.01\n",
      "Episode 400\tAverage Score: 0.04\n",
      "Episode 500\tAverage Score: 0.02\n",
      "Episode 600\tAverage Score: 0.01\n",
      "Episode 700\tAverage Score: 0.06\n",
      "Episode 800\tAverage Score: 0.08\n",
      "Episode 900\tAverage Score: 0.09\n",
      "Episode 1000\tAverage Score: 0.09\n",
      "Episode 1100\tAverage Score: 0.11\n",
      "Episode 1200\tAverage Score: 0.07\n",
      "Episode 1300\tAverage Score: 0.13\n",
      "Episode 1400\tAverage Score: 0.22\n",
      "Episode 1500\tAverage Score: 0.21\n",
      "Episode 1600\tAverage Score: 0.25\n",
      "Episode 1700\tAverage Score: 0.45\n",
      "Episode 1717\tAverage Score: 0.50\n",
      "Environment solved in 1717 episodes!\tAverage Score: 0.50\n",
      "Training took 1126.23 seconds\n"
     ]
    },
    {
     "data": {
      "image/png": "[encoded data removed]",
      "text/plain": [
       "<Figure size 432x288 with 1 Axes>"
      ]
     },
     "metadata": {
      "needs_background": "light"
     },
     "output_type": "display_data"
    }
   ],
   "source": [
    "config = MultiAgentConfig()\n",
    "config.prioritized_replay = False\n",
    "\n",
    "print(\"Randomized Replay Buffer\")\n",
    "print(config)\n",
    "\n",
    "start_time = time.time()\n",
    "ddpg_agent = MADDPG(tennis_env.state_size, tennis_env.action_size, config)\n",
    "scores = maddpg(ddpg_agent, 3000, 2000)\n",
    "print(\"Training took {:.2f} seconds\".format(time.time() - start_time))\n",
    "\n",
    "plot_scores(scores)\n",
    "\n",
    "# save the checkpoints\n",
    "ddpg_agent.save_checkpoints('checkpoints/checkpoint_random_')"
   ]
  },
  {
   "cell_type": "markdown",
   "metadata": {},
   "source": [
    "### Prioritized Replay"
   ]
  },
  {
   "cell_type": "markdown",
   "metadata": {},
   "source": [
    "Training the agent with the hyperparameters from above. This agent uses a prioritized experience replay buffer using the strategy outlined in [this paper](https://ieeexplore.ieee.org/document/8122622)."
   ]
  },
  {
   "cell_type": "code",
   "execution_count": 10,
   "metadata": {},
   "outputs": [
    {
     "name": "stdout",
     "output_type": "stream",
     "text": [
      "Prioritized Replay Enabled\n",
      "Agent Config:\n",
      "\tbuffer size: 100000\tbatch size: 512\n",
      "\tgamma: 0.99\ttau: 0.2\n",
      "\tactor lr: 0.0001\tcritic lr: 0.0003\n",
      "\tmu: 0.0\ttheta: 0.15\tsigma: 0.2\n",
      "Episode 100\tAverage Score: 0.01\n",
      "Episode 200\tAverage Score: 0.01\n",
      "Episode 300\tAverage Score: 0.02\n",
      "Episode 400\tAverage Score: 0.02\n",
      "Episode 500\tAverage Score: 0.05\n",
      "Episode 600\tAverage Score: 0.11\n",
      "Episode 700\tAverage Score: 0.19\n",
      "Episode 800\tAverage Score: 0.12\n",
      "Episode 900\tAverage Score: 0.23\n",
      "Episode 1000\tAverage Score: 0.28\n",
      "Episode 1100\tAverage Score: 0.42\n",
      "Episode 1182\tAverage Score: 0.51\n",
      "Environment solved in 1182 episodes!\tAverage Score: 0.51\n",
      "Training took 1225.49 seconds\n"
     ]
    },
    {
     "data": {
      "image/png": "[encoded data removed]",
      "text/plain": [
       "<Figure size 432x288 with 1 Axes>"
      ]
     },
     "metadata": {
      "needs_background": "light"
     },
     "output_type": "display_data"
    }
   ],
   "source": [
    "# train the agent for 500 episodes and show the scores\n",
    "config = MultiAgentConfig()\n",
    "config.prioritized_replay = True\n",
    "config.beta_decay = 20000\n",
    "\n",
    "print(\"Prioritized Replay Enabled\")\n",
    "print(config)\n",
    "\n",
    "start_time = time.time()\n",
    "ddpg_agent = MADDPG(tennis_env.state_size, tennis_env.action_size, config)\n",
    "scores = maddpg(ddpg_agent, 3000, 2000)\n",
    "print(\"Training took {:.2f} seconds\".format(time.time() - start_time))\n",
    "\n",
    "plot_scores(scores)\n",
    "\n",
    "# save the checkpoints\n",
    "ddpg_agent.save_checkpoints('checkpoints/checkpoint_per_')"
   ]
  },
  {
   "cell_type": "markdown",
   "metadata": {},
   "source": [
    "### Watch a Smart Agent"
   ]
  },
  {
   "cell_type": "markdown",
   "metadata": {},
   "source": [
    "Watch an agent control two paddles to try to keep the ball aloft."
   ]
  },
  {
   "cell_type": "code",
   "execution_count": 8,
   "metadata": {},
   "outputs": [],
   "source": [
    "def run_smart_agent(agent):\n",
    "    for i in range(0, 3): \n",
    "        state = tennis_env.reset(False)\n",
    "        score = np.zeros(tennis_env.num_agents)\n",
    "        while True:\n",
    "            action = agent.act(state, 0.0)\n",
    "            next_state, reward, done, _ = tennis_env.step(action)\n",
    "            score += reward                               # update the score\n",
    "            state = next_state                             # roll over the state to next time step\n",
    "            if any(done):                                       # exit loop if episode finished\n",
    "                break\n",
    "        print(\"Max Score: {}\".format(np.max(score)))"
   ]
  },
  {
   "cell_type": "code",
   "execution_count": 9,
   "metadata": {},
   "outputs": [
    {
     "name": "stdout",
     "output_type": "stream",
     "text": [
      "Max Score: 0.20000000298023224\n",
      "Max Score: 2.600000038743019\n",
      "Max Score: 0.0\n"
     ]
    }
   ],
   "source": [
    "config = MultiAgentConfig()\n",
    "config.buffer_size = int(1e5)\n",
    "config.batch_size = 512\n",
    "config.gamma = 0.99\n",
    "config.lr_actor = 1e-4\n",
    "config.lr_critic = 3e-4\n",
    "config.actor_hidden_sizes = [256, 128]\n",
    "config.critic_hidden_sizes = [256, 128]\n",
    "\n",
    "ddpg_agent = MADDPG(tennis_env.state_size, tennis_env.action_size, config)\n",
    "ddpg_agent.load_checkpoints('checkpoints/checkpoint_max_')\n",
    "run_smart_agent(ddpg_agent)"
   ]
  },
  {
   "cell_type": "code",
   "execution_count": 10,
   "metadata": {},
   "outputs": [],
   "source": [
    "tennis_env.env.close()"
   ]
  }
 ],
 "metadata": {
  "kernelspec": {
   "display_name": "Python 3",
   "language": "python",
   "name": "python3"
  },
  "language_info": {
   "codemirror_mode": {
    "name": "ipython",
    "version": 3
   },
   "file_extension": ".py",
   "mimetype": "text/x-python",
   "name": "python",
   "nbconvert_exporter": "python",
   "pygments_lexer": "ipython3",
   "version": "3.6.7"
  }
 },
 "nbformat": 4,
 "nbformat_minor": 2
}
